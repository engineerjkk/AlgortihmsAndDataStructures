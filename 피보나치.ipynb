{
  "nbformat": 4,
  "nbformat_minor": 0,
  "metadata": {
    "colab": {
      "name": "피보나치.ipynb",
      "provenance": []
    },
    "kernelspec": {
      "name": "python3",
      "display_name": "Python 3"
    },
    "language_info": {
      "name": "python"
    }
  },
  "cells": [
    {
      "cell_type": "code",
      "metadata": {
        "id": "P64Rv8aP0NdI"
      },
      "source": [
        "def fibo(m):\n",
        "  if m==1 or m==2:\n",
        "    return 1\n",
        "  else:\n",
        "    return fibo(m-1)+fibo(m-2)"
      ],
      "execution_count": 1,
      "outputs": []
    },
    {
      "cell_type": "code",
      "metadata": {
        "colab": {
          "base_uri": "https://localhost:8080/"
        },
        "id": "o7EaHoW80ZRq",
        "outputId": "6992e3ee-10dd-45d8-cd3f-adb8d914399e"
      },
      "source": [
        " n=int(input())\n",
        " ans=fibo(n)\n",
        " print(ans)"
      ],
      "execution_count": 5,
      "outputs": [
        {
          "output_type": "stream",
          "text": [
            "6\n",
            "8\n"
          ],
          "name": "stdout"
        }
      ]
    },
    {
      "cell_type": "code",
      "metadata": {
        "id": "Y0v2Gj9O0dn3"
      },
      "source": [
        ""
      ],
      "execution_count": null,
      "outputs": []
    }
  ]
}