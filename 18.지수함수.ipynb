{
  "nbformat": 4,
  "nbformat_minor": 0,
  "metadata": {
    "colab": {
      "name": "지수함수.ipynb",
      "provenance": [],
      "collapsed_sections": []
    },
    "kernelspec": {
      "name": "python3",
      "display_name": "Python 3"
    },
    "language_info": {
      "name": "python"
    }
  },
  "cells": [
    {
      "cell_type": "code",
      "metadata": {
        "id": "e2MZ1JBN2Ysi"
      },
      "source": [
        "def power(b,m):\n",
        "  if m==0:\n",
        "    return 1\n",
        "  else:\n",
        "    return b*power(b,m-1)"
      ],
      "execution_count": 1,
      "outputs": []
    },
    {
      "cell_type": "markdown",
      "metadata": {
        "id": "QJy4LWRQ3lBf"
      },
      "source": [
        "a와 n을 따로받기 위해서 split을 통해 구분해 줍니다."
      ]
    },
    {
      "cell_type": "code",
      "metadata": {
        "colab": {
          "base_uri": "https://localhost:8080/"
        },
        "id": "Hu00JJFn2ucV",
        "outputId": "679ac94e-8653-41b7-d72a-6224742e37b9"
      },
      "source": [
        "a,n=input().split()\n",
        "a=int(a)\n",
        "n=int(n)\n",
        "\n",
        "ans=power(a,n)\n",
        "print(ans)"
      ],
      "execution_count": 2,
      "outputs": [
        {
          "output_type": "stream",
          "text": [
            "2 9\n",
            "512\n"
          ],
          "name": "stdout"
        }
      ]
    },
    {
      "cell_type": "code",
      "metadata": {
        "id": "5Xa5WXhi3vP4"
      },
      "source": [
        ""
      ],
      "execution_count": null,
      "outputs": []
    }
  ]
}
