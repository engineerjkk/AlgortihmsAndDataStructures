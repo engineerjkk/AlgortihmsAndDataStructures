{
  "nbformat": 4,
  "nbformat_minor": 0,
  "metadata": {
    "colab": {
      "name": "팩토리얼.ipynb",
      "provenance": []
    },
    "kernelspec": {
      "name": "python3",
      "display_name": "Python 3"
    },
    "language_info": {
      "name": "python"
    }
  },
  "cells": [
    {
      "cell_type": "code",
      "metadata": {
        "id": "xQkFHCTc1aNU"
      },
      "source": [
        "def fact(m):\n",
        "  if m==1:\n",
        "    return 1\n",
        "  else:\n",
        "    return m*fact(m-1)"
      ],
      "execution_count": 6,
      "outputs": []
    },
    {
      "cell_type": "code",
      "metadata": {
        "colab": {
          "base_uri": "https://localhost:8080/"
        },
        "id": "uzUbc8K41y7D",
        "outputId": "798c89ad-8ca7-43fd-b05a-b1f07fdbf0ef"
      },
      "source": [
        "n=int(input())\n",
        "ans=fact(n)\n",
        "print(ans)"
      ],
      "execution_count": 7,
      "outputs": [
        {
          "output_type": "stream",
          "text": [
            "5\n",
            "120\n"
          ],
          "name": "stdout"
        }
      ]
    },
    {
      "cell_type": "code",
      "metadata": {
        "id": "fSSrnpxW10zB"
      },
      "source": [
        ""
      ],
      "execution_count": null,
      "outputs": []
    }
  ]
}